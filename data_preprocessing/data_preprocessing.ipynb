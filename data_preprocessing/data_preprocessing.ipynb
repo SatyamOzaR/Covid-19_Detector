{
 "cells": [
  {
   "cell_type": "markdown",
   "metadata": {},
   "source": [
    "# '''Author :- Satyam Oza R\n",
    "\n",
    "This file is used to filter out the corrupted image files from large dataset and also rename the dataset sequentially"
   ]
  },
  {
   "cell_type": "code",
   "execution_count": 8,
   "metadata": {},
   "outputs": [],
   "source": [
    "import os\r\n",
    "from  PIL import Image\r\n",
    "\r\n",
    "i = 0\r\n",
    "\r\n",
    "path = r'D:\\mini_project\\dataset\\ct\\ct_covid_negative'\r\n",
    "\r\n",
    "for f in os.listdir(path):\r\n",
    "    \r\n",
    "    i += 1\r\n",
    "    \r\n",
    "    try:\r\n",
    "        img = Image.open(os.path.join(path, f))\r\n",
    "        img.verify()\r\n",
    "        os.rename(os.path.join(path, f), os.path.join(path, '#' + str(i) + '.jpg'))\r\n",
    "        \r\n",
    "    except:\r\n",
    "        os.remove(os.path.join(path, f))\r\n",
    "    "
   ]
  },
  {
   "cell_type": "code",
   "execution_count": null,
   "metadata": {},
   "outputs": [],
   "source": []
  }
 ],
 "metadata": {
  "interpreter": {
   "hash": "71bdcf3bc2fb011fea24d23eb9f39d5fc28fb6ee2f376ee638127fd82cadf56d"
  },
  "kernelspec": {
   "display_name": "Python 3.8.5 64-bit",
   "name": "python3"
  },
  "language_info": {
   "codemirror_mode": {
    "name": "ipython",
    "version": 3
   },
   "file_extension": ".py",
   "mimetype": "text/x-python",
   "name": "python",
   "nbconvert_exporter": "python",
   "pygments_lexer": "ipython3",
   "version": "3.8.5"
  }
 },
 "nbformat": 4,
 "nbformat_minor": 4
}